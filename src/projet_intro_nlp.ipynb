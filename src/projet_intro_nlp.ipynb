{
 "cells": [
  {
   "cell_type": "code",
   "execution_count": 2,
   "metadata": {},
   "outputs": [
    {
     "name": "stderr",
     "output_type": "stream",
     "text": [
      "/home/lahad/.local/lib/python3.10/site-packages/torch/cuda/__init__.py:628: UserWarning: Can't initialize NVML\n",
      "  warnings.warn(\"Can't initialize NVML\")\n",
      "[nltk_data] Downloading package stopwords to /home/lahad/nltk_data...\n",
      "[nltk_data]   Package stopwords is already up-to-date!\n",
      "[nltk_data] Downloading package punkt to /home/lahad/nltk_data...\n",
      "[nltk_data]   Package punkt is already up-to-date!\n"
     ]
    }
   ],
   "source": [
    "import numpy as np\n",
    "import pandas as pd\n",
    "from sklearn.dummy import DummyClassifier\n",
    "from sklearn.metrics import classification_report, accuracy_score, precision_score, recall_score, f1_score, confusion_matrix\n",
    "from sklearn.feature_extraction.text import CountVectorizer, TfidfVectorizer\n",
    "from sklearn.model_selection import train_test_split\n",
    "from sklearn.svm import SVC\n",
    "from gensim.models import Word2Vec\n",
    "from gensim.utils import simple_preprocess\n",
    "from nltk.corpus import stopwords\n",
    "from nltk.stem.snowball import FrenchStemmer\n",
    "import nltk\n",
    "import re\n",
    "import spacy\n",
    "nltk.download('stopwords')\n",
    "nltk.download('punkt')\n",
    "nlp = spacy.load('fr_core_news_sm')"
   ]
  },
  {
   "cell_type": "markdown",
   "metadata": {},
   "source": [
    "### Séparation l'ensemble d'entraînement en 2 parties: entrainement et validation"
   ]
  },
  {
   "cell_type": "code",
   "execution_count": 3,
   "metadata": {},
   "outputs": [],
   "source": [
    "# Charger les données\n",
    "data = pd.read_csv(\"../data/train.csv\")\n",
    "\n",
    "train_data, val_data = train_test_split(data, test_size=0.2, random_state=42)\n",
    "\n",
    "train_data.to_csv(\"../data/train_split.csv\", index=False)\n",
    "val_data.to_csv(\"../data/validation_split.csv\", index=False)\n"
   ]
  },
  {
   "cell_type": "markdown",
   "metadata": {},
   "source": [
    "## Chargement des données"
   ]
  },
  {
   "cell_type": "code",
   "execution_count": 4,
   "metadata": {},
   "outputs": [
    {
     "data": {
      "text/plain": [
       "\"- 1 pâte brisée - 150 g de raisins bien mûrs - 3 oeufs - 100 g de sucre - 3 cuillères à soupe de crème fraîche - 60 g de poudre d'amandes\""
      ]
     },
     "execution_count": 4,
     "metadata": {},
     "output_type": "execute_result"
    }
   ],
   "source": [
    "# Charger les données\n",
    "train_data = pd.read_csv(\"../data/train_split.csv\")\n",
    "val_data = pd.read_csv(\"../data/validation_split.csv\")\n",
    "test_data = pd.read_csv(\"../data/test.csv\")\n",
    "\n",
    "train_data.head()"
   ]
  },
  {
   "cell_type": "markdown",
   "metadata": {},
   "source": [
    "## Statistiques sur les données"
   ]
  },
  {
   "cell_type": "code",
   "execution_count": 5,
   "metadata": {},
   "outputs": [
    {
     "name": "stdout",
     "output_type": "stream",
     "text": [
      "Nombre de documents dans chaque ensemble :\n",
      "Entraînement : 9978\n",
      "Validation : 2495\n",
      "Test : 1388\n",
      "\n",
      "Nombre de documents par classe dans chaque ensemble :\n",
      "Ensemble d'entraînement :\n",
      "type\n",
      "Plat principal    4644\n",
      "Dessert           3036\n",
      "Entrée            2298\n",
      "Name: count, dtype: int64\n",
      "\n",
      "Ensemble de validation :\n",
      "type\n",
      "Plat principal    1158\n",
      "Dessert            726\n",
      "Entrée             611\n",
      "Name: count, dtype: int64\n",
      "\n",
      "Ensemble de test :\n",
      "type\n",
      "Plat principal    644\n",
      "Dessert           407\n",
      "Entrée            337\n",
      "Name: count, dtype: int64\n",
      "\n",
      "Pourcentage de documents par classe dans chaque ensemble :\n",
      "Ensemble d'entraînement :\n",
      "type\n",
      "Plat principal    46.54\n",
      "Dessert           30.43\n",
      "Entrée            23.03\n",
      "Name: proportion, dtype: float64\n",
      "\n",
      "Ensemble de validation :\n",
      "type\n",
      "Plat principal    46.41\n",
      "Dessert           29.10\n",
      "Entrée            24.49\n",
      "Name: proportion, dtype: float64\n",
      "\n",
      "Ensemble de test :\n",
      "type\n",
      "Plat principal    46.40\n",
      "Dessert           29.32\n",
      "Entrée            24.28\n",
      "Name: proportion, dtype: float64\n"
     ]
    }
   ],
   "source": [
    "# Nombre de documents dans chaque ensemble\n",
    "num_train_docs = len(train_data)\n",
    "num_val_docs = len(val_data)\n",
    "num_test_docs = len(test_data)\n",
    "\n",
    "print(\"Nombre de documents dans chaque ensemble :\")\n",
    "print(\"Entraînement :\", num_train_docs)\n",
    "print(\"Validation :\", num_val_docs)\n",
    "print(\"Test :\", num_test_docs)\n",
    "\n",
    "# Nombre de documents dans chaque ensemble pour chaque classe\n",
    "train_label_counts = train_data['type'].value_counts()\n",
    "val_label_counts = val_data['type'].value_counts()\n",
    "test_label_counts = test_data['type'].value_counts()\n",
    "\n",
    "print(\"\\nNombre de documents par classe dans chaque ensemble :\")\n",
    "print(\"Ensemble d'entraînement :\")\n",
    "print(train_label_counts)\n",
    "print(\"\\nEnsemble de validation :\")\n",
    "print(val_label_counts)\n",
    "print(\"\\nEnsemble de test :\")\n",
    "print(test_label_counts)\n",
    "\n",
    "# Pourcentage de documents dans chaque ensemble pour chaque classe\n",
    "train_label_percentages = (train_data['type'].value_counts(normalize=True) * 100).round(2)\n",
    "val_label_percentages = (val_data['type'].value_counts(normalize=True) * 100).round(2)\n",
    "test_label_percentages = (test_data['type'].value_counts(normalize=True) * 100).round(2)\n",
    "\n",
    "print(\"\\nPourcentage de documents par classe dans chaque ensemble :\")\n",
    "print(\"Ensemble d'entraînement :\")\n",
    "print(train_label_percentages)\n",
    "print(\"\\nEnsemble de validation :\")\n",
    "print(val_label_percentages)\n",
    "print(\"\\nEnsemble de test :\")\n",
    "print(test_label_percentages)\n"
   ]
  },
  {
   "cell_type": "markdown",
   "metadata": {},
   "source": [
    "### Separer les données en attributs et étiquettes\n"
   ]
  },
  {
   "cell_type": "code",
   "execution_count": 6,
   "metadata": {},
   "outputs": [],
   "source": [
    "# Prétraitement des données d'entraînement\n",
    "train_data['text'] = train_data['titre'] + \" \" + train_data['recette']\n",
    "train_data = train_data[['text', 'type']]\n",
    "\n",
    "# Prétraitement des données de validation\n",
    "val_data['text'] = val_data['titre'] + \" \" + val_data['recette']\n",
    "val_data = val_data[['text', 'type']]\n",
    "\n",
    "# Prétraitement des données de test\n",
    "test_data['text'] = test_data['titre'] + \" \" + test_data['recette']\n",
    "test_data = test_data[['text', 'type']]\n",
    "\n",
    "# Separer les attributs et les étiquettes\n",
    "X_train = train_data['text']\n",
    "y_train = train_data['type']\n",
    "X_val = val_data['text']\n",
    "y_val = val_data['type']\n",
    "X_test = test_data['text']\n",
    "y_test = test_data['type']"
   ]
  },
  {
   "cell_type": "markdown",
   "metadata": {},
   "source": [
    "###  Nettoyage (Normalisation) des donnees "
   ]
  },
  {
   "cell_type": "code",
   "execution_count": 7,
   "metadata": {},
   "outputs": [],
   "source": [
    "\n",
    "stopwords_fr = set(stopwords.words('french'))\n",
    "stemmer = FrenchStemmer()\n",
    "\n",
    "def clean_text(text):\n",
    "    words = simple_preprocess(text, min_len=1)  # Tokenization et conversion en minuscules\n",
    "    words = [word for word in words if word not in stopwords_fr]\n",
    "    doc = nlp(\" \".join(words))\n",
    "    words = [token.lemma_ for token in doc] # Lemmatization\n",
    "    words = [stemmer.stem(word) for word in words] # Stemming\n",
    "    cleaned_text = ' '.join(words)\n",
    "\n",
    "    return cleaned_text\n",
    "\n",
    "# Appliquer le nettoyage sur les données \n",
    "X_train = X_train.apply(clean_text)\n",
    "X_val = X_val.apply(clean_text)\n",
    "X_test = X_test.apply(clean_text)\n",
    "\n"
   ]
  },
  {
   "cell_type": "markdown",
   "metadata": {},
   "source": [
    "## Baseline"
   ]
  },
  {
   "cell_type": "code",
   "execution_count": 8,
   "metadata": {},
   "outputs": [
    {
     "name": "stdout",
     "output_type": "stream",
     "text": [
      "Classification Report for Test Data:\n",
      "                precision    recall  f1-score   support\n",
      "\n",
      "       Dessert      0.309     0.319     0.314       407\n",
      "        Entrée      0.266     0.252     0.259       337\n",
      "Plat principal      0.493     0.495     0.494       644\n",
      "\n",
      "      accuracy                          0.385      1388\n",
      "     macro avg      0.356     0.356     0.356      1388\n",
      "  weighted avg      0.384     0.385     0.384      1388\n",
      "\n"
     ]
    }
   ],
   "source": [
    "\n",
    "dummy = DummyClassifier(strategy='stratified', random_state=42)\n",
    "dummy.fit(X_train, y_train)\n",
    "\n",
    "# # Prédire sur les données de developpement\n",
    "# y_pred_val = dummy.predict(X_val)\n",
    "# # Afficher le rapport de classification pour les données de developpement\n",
    "# print(\"Classification Report for Validation Data:\")\n",
    "# print(classification_report(y_val, y_pred_val))\n",
    "\n",
    "# Prédire sur les données de test\n",
    "y_pred_test = dummy.predict(X_test)\n",
    "print(\"Classification Report for Test Data:\")\n",
    "print(classification_report(y_test, y_pred_test,digits=3))\n"
   ]
  },
  {
   "cell_type": "markdown",
   "metadata": {},
   "source": [
    "#### Run2: TF-IDF + SVM"
   ]
  },
  {
   "cell_type": "code",
   "execution_count": 9,
   "metadata": {},
   "outputs": [
    {
     "name": "stdout",
     "output_type": "stream",
     "text": [
      "\n",
      "Evaluation Metrics sur les donnees de Test:\n",
      "Accuracy: 0.8840057636887608\n",
      "Precision: 0.8825647252273752\n",
      "Recall: 0.8840057636887608\n",
      "F1 Score: 0.883168505059553\n",
      "Confusion Matrix:\n",
      "[[405   1   1]\n",
      " [  3 253  81]\n",
      " [  6  69 569]]\n",
      "Classification Report:\n",
      "                precision    recall  f1-score   support\n",
      "\n",
      "       Dessert      0.978     0.995     0.987       407\n",
      "        Entrée      0.783     0.751     0.767       337\n",
      "Plat principal      0.874     0.884     0.879       644\n",
      "\n",
      "      accuracy                          0.884      1388\n",
      "     macro avg      0.879     0.876     0.877      1388\n",
      "  weighted avg      0.883     0.884     0.883      1388\n",
      "\n"
     ]
    }
   ],
   "source": [
    "# Vectorisation des textes\n",
    "tfidf = TfidfVectorizer()\n",
    "X_train_tfidf = tfidf.fit_transform(X_train)\n",
    "X_val_tfidf = tfidf.transform(X_val)\n",
    "X_test_tfidf = tfidf.transform(X_test)\n",
    "\n",
    "# Création du modèle SVM avec noyau gaussien (RBF)\n",
    "svm_rbf = SVC(kernel='rbf', C=5, random_state=42)\n",
    "svm_rbf.fit(X_train_tfidf, y_train)\n",
    "\n",
    "# Prédiction sur les données de developpement\n",
    "# y_pred_val = svm_rbf.predict(X_val_tfidf)\n",
    "# # Evaluation sur les données de developpement\n",
    "# accuracy_val = accuracy_score(y_val, y_pred_val)\n",
    "# precision_val = precision_score(y_val, y_pred_val, average='weighted')\n",
    "# recall_val = recall_score(y_val, y_pred_val, average='weighted')\n",
    "# f1_val = f1_score(y_val, y_pred_val, average='weighted')\n",
    "# conf_matrix_val = confusion_matrix(y_val, y_pred_val)\n",
    "# class_report_val = classification_report(y_val, y_pred_val,digits=3)\n",
    "# Affichage des résultats sur les données de developpement\n",
    "# print(\"Evaluation Metrics sur les donnees de developpement:\")\n",
    "# print(f\"Accuracy: {accuracy_val}\")\n",
    "# print(f\"Precision: {precision_val}\")\n",
    "# print(f\"Recall: {recall_val}\")\n",
    "# print(f\"F1 Score: {f1_val}\")\n",
    "# print(\"Confusion Matrix:\")\n",
    "# print(conf_matrix_val)\n",
    "# print(\"Classification Report:\")\n",
    "# print(class_report_val)\n",
    "\n",
    "# Prédiction sur les données de test\n",
    "y_pred_test = svm_rbf.predict(X_test_tfidf)\n",
    "accuracy_test = accuracy_score(y_test, y_pred_test)\n",
    "precision_test = precision_score(y_test, y_pred_test, average='weighted')\n",
    "recall_test = recall_score(y_test, y_pred_test, average='weighted')\n",
    "f1_test = f1_score(y_test, y_pred_test, average='weighted')\n",
    "conf_matrix_test = confusion_matrix(y_test, y_pred_test)\n",
    "class_report_test = classification_report(y_test, y_pred_test,digits=3)\n",
    "\n",
    "# Affichage des résultats sur les données de test\n",
    "print(\"\\nEvaluation Metrics sur les donnees de Test:\")\n",
    "print(f\"Accuracy: {accuracy_test}\")\n",
    "print(f\"Precision: {precision_test}\")\n",
    "print(f\"Recall: {recall_test}\")\n",
    "print(f\"F1 Score: {f1_test}\")\n",
    "print(\"Confusion Matrix:\")\n",
    "print(conf_matrix_test)\n",
    "print(\"Classification Report:\")\n",
    "print(class_report_test)\n"
   ]
  },
  {
   "cell_type": "code",
   "execution_count": null,
   "metadata": {},
   "outputs": [],
   "source": []
  },
  {
   "cell_type": "markdown",
   "metadata": {},
   "source": [
    "### Run3: Word2Vec + SVM"
   ]
  },
  {
   "cell_type": "code",
   "execution_count": 10,
   "metadata": {},
   "outputs": [
    {
     "name": "stdout",
     "output_type": "stream",
     "text": [
      "\n",
      "Evaluation Metrics sur les donnees de Test:\n",
      "Accuracy: 0.8782420749279539\n",
      "Precision: 0.876086808027787\n",
      "Recall: 0.8782420749279539\n",
      "F1 Score: 0.8753295923936499\n",
      "Confusion Matrix:\n",
      "[[404   1   2]\n",
      " [  5 229 103]\n",
      " [  4  54 586]]\n",
      "Classification Report:\n",
      "                precision    recall  f1-score   support\n",
      "\n",
      "       Dessert      0.978     0.993     0.985       407\n",
      "        Entrée      0.806     0.680     0.738       337\n",
      "Plat principal      0.848     0.910     0.878       644\n",
      "\n",
      "      accuracy                          0.878      1388\n",
      "     macro avg      0.878     0.861     0.867      1388\n",
      "  weighted avg      0.876     0.878     0.875      1388\n",
      "\n"
     ]
    }
   ],
   "source": [
    "# Modèle Word2Vec\n",
    "corpus = [sentence.split() for sentence in X_train]\n",
    "word2vec_model = Word2Vec(corpus, vector_size=150, window=10, min_count=2, workers=1, sg=1)\n",
    "\n",
    "def document_vector(word2vec_model, doc):\n",
    "    # Filtrer les mots absents dans le vocabulaire\n",
    "    doc = [word for word in doc if word in word2vec_model.wv.key_to_index]\n",
    "    if len(doc) != 0:\n",
    "        return np.mean(word2vec_model.wv[doc], axis=0)\n",
    "    else:\n",
    "        return np.zeros(word2vec_model.vector_size)\n",
    "\n",
    "# Préparation des données pour Word2Vec\n",
    "X_train_word2vec = np.array([document_vector(word2vec_model, doc.split()) for doc in X_train])\n",
    "X_val_word2vec = np.array([document_vector(word2vec_model, doc.split()) for doc in X_val])\n",
    "X_test_word2vec = np.array([document_vector(word2vec_model, doc.split()) for doc in X_test])\n",
    "\n",
    "# Modèle SVM\n",
    "svm_classifier = SVC(kernel='rbf', C=5, random_state=42)\n",
    "svm_classifier.fit(X_train_word2vec, y_train)\n",
    "\n",
    "# Prédiction sur les données de developpement\n",
    "# y_pred_val = svm_classifier.predict(X_val_word2vec)\n",
    "# accuracy_val = accuracy_score(y_val, y_pred_val)\n",
    "# precision_val = precision_score(y_val, y_pred_val, average='weighted')\n",
    "# recall_val = recall_score(y_val, y_pred_val, average='weighted')\n",
    "# f1_val = f1_score(y_val, y_pred_val, average='weighted')\n",
    "# conf_matrix_val = confusion_matrix(y_val, y_pred_val)\n",
    "# class_report_val = classification_report(y_val, y_pred_val,digits=4)\n",
    "# Affichage des résultats\n",
    "# print(\"Evaluation Metrics sur les donnees de  developpement :\")\n",
    "# print(f\"Accuracy: {accuracy_val}\")\n",
    "# print(f\"Precision: {precision_val}\")\n",
    "# print(f\"Recall: {recall_val}\")\n",
    "# print(f\"F1 Score: {f1_val}\")\n",
    "# print(\"Confusion Matrix:\")\n",
    "# print(conf_matrix_val)\n",
    "# print(\"Classification Report:\")\n",
    "# print(class_report_val)\n",
    "\n",
    "\n",
    "# Prédiction sur les données de test\n",
    "y_pred_test = svm_classifier.predict(X_test_word2vec)\n",
    "accuracy_test = accuracy_score(y_test, y_pred_test)\n",
    "precision_test = precision_score(y_test, y_pred_test, average='weighted')\n",
    "recall_test = recall_score(y_test, y_pred_test, average='weighted')\n",
    "f1_test = f1_score(y_test, y_pred_test, average='weighted')\n",
    "conf_matrix_test = confusion_matrix(y_test, y_pred_test)\n",
    "class_report_test = classification_report(y_test, y_pred_test,digits=3)\n",
    "\n",
    "print(\"\\nEvaluation Metrics sur les donnees de Test:\")\n",
    "print(f\"Accuracy: {accuracy_test}\")\n",
    "print(f\"Precision: {precision_test}\")\n",
    "print(f\"Recall: {recall_test}\")\n",
    "print(f\"F1 Score: {f1_test}\")\n",
    "print(\"Confusion Matrix:\")\n",
    "print(conf_matrix_test)\n",
    "print(\"Classification Report:\")\n",
    "print(class_report_test)"
   ]
  },
  {
   "cell_type": "code",
   "execution_count": null,
   "metadata": {},
   "outputs": [],
   "source": []
  },
  {
   "cell_type": "markdown",
   "metadata": {},
   "source": [
    "### Run4: Bag of Words + SVM"
   ]
  },
  {
   "cell_type": "code",
   "execution_count": 11,
   "metadata": {},
   "outputs": [
    {
     "name": "stdout",
     "output_type": "stream",
     "text": [
      "\n",
      "Evaluation Metrics sur les donnees de Tests:\n",
      "Accuracy: 0.872478386167147\n",
      "Precision: 0.870466324950637\n",
      "Recall: 0.872478386167147\n",
      "F1 Score: 0.8712973055054815\n",
      "Confusion Matrix:\n",
      "[[405   1   1]\n",
      " [  5 244  88]\n",
      " [  7  75 562]]\n",
      "Classification Report:\n",
      "                precision    recall  f1-score   support\n",
      "\n",
      "       Dessert      0.971     0.995     0.983       407\n",
      "        Entrée      0.762     0.724     0.743       337\n",
      "Plat principal      0.863     0.873     0.868       644\n",
      "\n",
      "      accuracy                          0.872      1388\n",
      "     macro avg      0.866     0.864     0.865      1388\n",
      "  weighted avg      0.870     0.872     0.871      1388\n",
      "\n"
     ]
    }
   ],
   "source": [
    "# Vectorisation des textes\n",
    "vectorizer = CountVectorizer()\n",
    "\n",
    "# Transformation des données textuelles en vecteurs de compte\n",
    "X_train_counts = vectorizer.fit_transform(X_train)\n",
    "X_val_counts = vectorizer.transform(X_val)\n",
    "X_test_counts = vectorizer.transform(X_test)\n",
    "\n",
    "# Création et entraînement du modèle SVM\n",
    "svm_classifier = SVC(kernel=\"rbf\", C=5, random_state=42)\n",
    "svm_classifier.fit(X_train_counts, y_train)\n",
    "\n",
    "# Prédiction sur les données de test\n",
    "y_pred_test = svm_classifier.predict(X_test_counts)\n",
    "\n",
    "# Evaluation sur les données de test\n",
    "accuracy_test = accuracy_score(y_test, y_pred_test)\n",
    "precision_test = precision_score(y_test, y_pred_test, average='weighted')\n",
    "recall_test = recall_score(y_test, y_pred_test, average='weighted')\n",
    "f1_test = f1_score(y_test, y_pred_test, average='weighted')\n",
    "conf_matrix_test = confusion_matrix(y_test, y_pred_test)\n",
    "class_report_test = classification_report(y_test, y_pred_test,digits=3)\n",
    "\n",
    "\n",
    "# # Prédiction sur les données de developpement\n",
    "# y_pred_val = svm_classifier.predict(X_val_counts)\n",
    "# # Evaluation sur les données de developpement\n",
    "# accuracy_val = accuracy_score(y_val, y_pred_val)\n",
    "# precision_val = precision_score(y_val, y_pred_val, average='weighted')\n",
    "# recall_val = recall_score(y_val, y_pred_val, average='weighted')\n",
    "# f1_val = f1_score(y_val, y_pred_val, average='macro')\n",
    "# conf_matrix_val = confusion_matrix(y_val, y_pred_val)\n",
    "# class_report_val = classification_report(y_val, y_pred_val,digits=4)\n",
    "# # Affichage des résultats sur les données de developpement\n",
    "# print(\"Evaluation Metrics sur les donnees de developpement :\")\n",
    "# print(f\"Accuracy: {accuracy_val}\")\n",
    "# print(f\"Precision: {precision_val}\")\n",
    "# print(f\"Recall: {recall_val}\")\n",
    "# print(f\"F1 Score: {f1_val}\")\n",
    "# print(\"Confusion Matrix:\")\n",
    "# print(conf_matrix_val)\n",
    "# print(\"Classification Report:\")\n",
    "# print(class_report_val)\n",
    "\n",
    "# Affichage des résultats sur les données de test\n",
    "print(\"\\nEvaluation Metrics sur les donnees de Tests:\")\n",
    "print(f\"Accuracy: {accuracy_test}\")\n",
    "print(f\"Precision: {precision_test}\")\n",
    "print(f\"Recall: {recall_test}\")\n",
    "print(f\"F1 Score: {f1_test}\")\n",
    "print(\"Confusion Matrix:\")\n",
    "print(conf_matrix_test)\n",
    "print(\"Classification Report:\")\n",
    "print(class_report_test)"
   ]
  }
 ],
 "metadata": {
  "kernelspec": {
   "display_name": "Python 3",
   "language": "python",
   "name": "python3"
  },
  "language_info": {
   "codemirror_mode": {
    "name": "ipython",
    "version": 3
   },
   "file_extension": ".py",
   "mimetype": "text/x-python",
   "name": "python",
   "nbconvert_exporter": "python",
   "pygments_lexer": "ipython3",
   "version": "3.10.12"
  }
 },
 "nbformat": 4,
 "nbformat_minor": 2
}
